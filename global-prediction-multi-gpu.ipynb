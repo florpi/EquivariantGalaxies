{
 "cells": [
  {
   "cell_type": "code",
   "execution_count": 1,
   "metadata": {},
   "outputs": [],
   "source": [
    "import sys\n",
    "sys.path.append(\"../\")"
   ]
  },
  {
   "cell_type": "code",
   "execution_count": 1,
   "metadata": {},
   "outputs": [],
   "source": [
    "from pathlib import Path\n",
    "# import numpy as np\n",
    "import jax.numpy as np\n",
    "import pandas as pd\n",
    "import jax\n",
    "import jraph\n",
    "import matplotlib.pyplot as plt\n",
    "\n",
    "%load_ext autoreload\n",
    "%autoreload 2"
   ]
  },
  {
   "cell_type": "code",
   "execution_count": 2,
   "metadata": {},
   "outputs": [],
   "source": [
    "data_dir = Path('/n/holystore01/LABS/iaifi_lab/Lab/set-diffuser-data/val_split/')\n",
    "halos = np.load(data_dir / 'train_halos.npy')\n",
    "\n",
    "n_nodes = 5000\n",
    "halos =  halos[:, :n_nodes, :]\n",
    "\n",
    "halos_test = np.load(data_dir / 'test_halos.npy')\n",
    "halos_test =  halos_test[:, :n_nodes, :]"
   ]
  },
  {
   "cell_type": "markdown",
   "metadata": {},
   "source": [
    "## Prepare data"
   ]
  },
  {
   "cell_type": "code",
   "execution_count": 3,
   "metadata": {},
   "outputs": [
    {
     "name": "stdout",
     "output_type": "stream",
     "text": [
      "1600\n"
     ]
    }
   ],
   "source": [
    "cosmology = pd.read_csv(data_dir / f'train_cosmology.csv')\n",
    "cosmology_test = pd.read_csv(data_dir / f'test_cosmology.csv')\n",
    "print(len(cosmology))"
   ]
  },
  {
   "cell_type": "code",
   "execution_count": 4,
   "metadata": {},
   "outputs": [
    {
     "data": {
      "text/html": [
       "<div>\n",
       "<style scoped>\n",
       "    .dataframe tbody tr th:only-of-type {\n",
       "        vertical-align: middle;\n",
       "    }\n",
       "\n",
       "    .dataframe tbody tr th {\n",
       "        vertical-align: top;\n",
       "    }\n",
       "\n",
       "    .dataframe thead th {\n",
       "        text-align: right;\n",
       "    }\n",
       "</style>\n",
       "<table border=\"1\" class=\"dataframe\">\n",
       "  <thead>\n",
       "    <tr style=\"text-align: right;\">\n",
       "      <th></th>\n",
       "      <th>Omega_m</th>\n",
       "      <th>Omega_b</th>\n",
       "      <th>h</th>\n",
       "      <th>n_s</th>\n",
       "      <th>sigma_8</th>\n",
       "    </tr>\n",
       "  </thead>\n",
       "  <tbody>\n",
       "    <tr>\n",
       "      <th>0</th>\n",
       "      <td>0.1755</td>\n",
       "      <td>0.06681</td>\n",
       "      <td>0.7737</td>\n",
       "      <td>0.8849</td>\n",
       "      <td>0.6641</td>\n",
       "    </tr>\n",
       "    <tr>\n",
       "      <th>1</th>\n",
       "      <td>0.2139</td>\n",
       "      <td>0.05557</td>\n",
       "      <td>0.8599</td>\n",
       "      <td>0.9785</td>\n",
       "      <td>0.8619</td>\n",
       "    </tr>\n",
       "    <tr>\n",
       "      <th>2</th>\n",
       "      <td>0.1867</td>\n",
       "      <td>0.04503</td>\n",
       "      <td>0.6189</td>\n",
       "      <td>0.8307</td>\n",
       "      <td>0.7187</td>\n",
       "    </tr>\n",
       "  </tbody>\n",
       "</table>\n",
       "</div>"
      ],
      "text/plain": [
       "   Omega_m  Omega_b       h     n_s  sigma_8\n",
       "0   0.1755  0.06681  0.7737  0.8849   0.6641\n",
       "1   0.2139  0.05557  0.8599  0.9785   0.8619\n",
       "2   0.1867  0.04503  0.6189  0.8307   0.7187"
      ]
     },
     "execution_count": 4,
     "metadata": {},
     "output_type": "execute_result"
    }
   ],
   "source": [
    "cosmology.head(3)"
   ]
  },
  {
   "cell_type": "code",
   "execution_count": 5,
   "metadata": {},
   "outputs": [],
   "source": [
    "omega_m = np.array(cosmology['Omega_m'].values)[:,None]\n",
    "omega_m_test = np.array(cosmology_test['Omega_m'].values)[:,None]"
   ]
  },
  {
   "cell_type": "markdown",
   "metadata": {},
   "source": [
    "## Train EGNN"
   ]
  },
  {
   "cell_type": "code",
   "execution_count": 6,
   "metadata": {},
   "outputs": [],
   "source": [
    "import flax\n",
    "from flax.training.train_state import TrainState\n",
    "from functools import partial\n",
    "import flax.linen as nn\n",
    "import optax\n",
    "from tqdm import trange\n",
    "\n",
    "replicate = flax.jax_utils.replicate\n",
    "unreplicate = flax.jax_utils.unreplicate"
   ]
  },
  {
   "cell_type": "code",
   "execution_count": 15,
   "metadata": {},
   "outputs": [],
   "source": [
    "from utils.graph_utils import build_graph"
   ]
  },
  {
   "cell_type": "code",
   "execution_count": 16,
   "metadata": {},
   "outputs": [],
   "source": [
    "n_feat = 7\n",
    "\n",
    "halo_pos_mean = halos[..., :n_feat].mean((0,1))\n",
    "halo_pos_std = halos[..., :n_feat].std((0,1))"
   ]
  },
  {
   "cell_type": "code",
   "execution_count": 17,
   "metadata": {},
   "outputs": [],
   "source": [
    "halo_pos = (halos[..., :n_feat] - halo_pos_mean)  / halo_pos_std\n",
    "halo_pos_test = (halos_test[..., :n_feat] - halo_pos_mean)  / halo_pos_std"
   ]
  },
  {
   "cell_type": "code",
   "execution_count": 18,
   "metadata": {},
   "outputs": [],
   "source": [
    "# import sys\n",
    "# sys.path.append(\"../egnn-jax/models/\")\n",
    "\n",
    "# from models.egnn import EGNN\n",
    "\n",
    "# class GraphWrapper(nn.Module):\n",
    "#     @nn.compact\n",
    "#     def __call__(self, x):\n",
    "#         model = jax.vmap(EGNN(n_outputs=1,\n",
    "#                               message_passing_steps=5,\n",
    "#                               n_layers=3,\n",
    "#                               d_hidden=64,\n",
    "#                               activation='gelu',\n",
    "#                               positions_only=False,\n",
    "#                               use_fourier_features=False,\n",
    "#                               tanh_out=False, \n",
    "#                               soft_edges=True,\n",
    "#                               decouple_pos_vel_updates=False,\n",
    "#                               message_passing_agg='sum',\n",
    "#                               readout_agg=\"mean\",\n",
    "#                               readout_only_positions=True,\n",
    "#                               normalize_messages=True,\n",
    "#                               task=\"graph\",\n",
    "#                               mlp_readout_widths=[8, 2]))\n",
    "#         return model(x)"
   ]
  },
  {
   "cell_type": "code",
   "execution_count": 310,
   "metadata": {},
   "outputs": [],
   "source": [
    "import sys\n",
    "sys.path.append(\"../egnn-jax/models/\")\n",
    "sys.path.append(\"../egnn-jax/utils/\")\n",
    "\n",
    "from segnn import SEGNN\n",
    "from e3nn_jax import Irreps\n",
    "from irreps_utils import balanced_irreps\n",
    "\n",
    "l_attr = 2\n",
    "hidden_feats = 64\n",
    "\n",
    "irreps_sh = Irreps.spherical_harmonics(l_attr)\n",
    "irreps_hidden = balanced_irreps(lmax=l_attr, feature_size=hidden_feats, use_sh=True)\n",
    "\n",
    "class GraphWrapper(nn.Module):\n",
    "    @nn.compact\n",
    "    def __call__(self, x):\n",
    "        model = jax.vmap(SEGNN(irreps_hidden=irreps_hidden, \n",
    "                               irreps_sh=irreps_sh, \n",
    "                               num_message_passing_steps=1,\n",
    "                               num_blocks=3,\n",
    "                               normalize_messages=True,\n",
    "                               readout_only_positions=False,\n",
    "                               task='graph'))\n",
    "        return model(x)\n",
    "\n",
    "from utils.graph_utils import build_graph_irreps as build_graph"
   ]
  },
  {
   "cell_type": "code",
   "execution_count": 311,
   "metadata": {},
   "outputs": [],
   "source": [
    "# from models.equivariant_transformer import EquivariantTransformer\n",
    "# import e3nn_jax as e3nn\n",
    "\n",
    "# class GraphWrapper(nn.Module):\n",
    "#     @nn.compact\n",
    "#     def __call__(self, x):\n",
    "        \n",
    "#         # Position and feature irreps arrays. Add the mass to the conditioning vectors.\n",
    "#         pos = e3nn.IrrepsArray(\"1o\", x.nodes[..., :3])\n",
    "#         feat = e3nn.IrrepsArray(f\"1o + 1x0e\", x.nodes[..., 3:])\n",
    "\n",
    "#         return jax.vmap(EquivariantTransformer(irreps_out=\"16x1o + 16x0e\", d_hidden=64))(pos, feat, x.senders, x.receivers,)"
   ]
  },
  {
   "cell_type": "code",
   "execution_count": 312,
   "metadata": {},
   "outputs": [],
   "source": [
    "k = 20\n",
    "use_pbc = True\n",
    "use_edges = False\n",
    "\n",
    "graph = build_graph(halo_pos[:5], k=k, use_pbc=use_pbc, use_edges=use_edges)"
   ]
  },
  {
   "cell_type": "code",
   "execution_count": 313,
   "metadata": {},
   "outputs": [],
   "source": [
    "model = GraphWrapper()\n",
    "\n",
    "key = jax.random.PRNGKey(0)\n",
    "out, params = model.init_with_output(key, graph)"
   ]
  },
  {
   "cell_type": "code",
   "execution_count": 314,
   "metadata": {},
   "outputs": [
    {
     "data": {
      "text/plain": [
       "Array([[3.0753156e-07],\n",
       "       [7.4417954e-07],\n",
       "       [7.2538523e-07],\n",
       "       [6.7074325e-08],\n",
       "       [9.9235808e-07]], dtype=float32)"
      ]
     },
     "execution_count": 314,
     "metadata": {},
     "output_type": "execute_result"
    }
   ],
   "source": [
    "out"
   ]
  },
  {
   "cell_type": "code",
   "execution_count": 315,
   "metadata": {},
   "outputs": [
    {
     "data": {
      "text/plain": [
       "35371"
      ]
     },
     "execution_count": 315,
     "metadata": {},
     "output_type": "execute_result"
    }
   ],
   "source": [
    "sum(x.size for x in jax.tree_util.tree_leaves(params))"
   ]
  },
  {
   "cell_type": "code",
   "execution_count": 316,
   "metadata": {},
   "outputs": [
    {
     "name": "stdout",
     "output_type": "stream",
     "text": [
      "4 GPUs available\n"
     ]
    }
   ],
   "source": [
    "# Devices\n",
    "num_local_devices = jax.local_device_count()\n",
    "print(f\"{num_local_devices} GPUs available\")"
   ]
  },
  {
   "cell_type": "code",
   "execution_count": 317,
   "metadata": {},
   "outputs": [],
   "source": [
    "# Define train state and replicate across devices\n",
    "tx = optax.adamw(learning_rate=1e-4, weight_decay=1e-5)\n",
    "state = TrainState.create(apply_fn=model.apply, params=params, tx=tx)\n",
    "pstate = replicate(state)"
   ]
  },
  {
   "cell_type": "code",
   "execution_count": 318,
   "metadata": {},
   "outputs": [],
   "source": [
    "def loss_mse(pred_batch, cosmo_batch,):\n",
    "    return np.mean((pred_batch - cosmo_batch) ** 2)\n",
    "\n",
    "@partial(jax.pmap, axis_name=\"batch\",)\n",
    "def train_step(state, halo_batch, cosmo_batch,):\n",
    "\n",
    "    # Build graph\n",
    "    halo_graph = build_graph(halo_batch, k=k, use_pbc=use_pbc, use_edges=use_edges)\n",
    "    \n",
    "    def loss_fn(params):\n",
    "        outputs = state.apply_fn(params, halo_graph)\n",
    "        loss = loss_mse(outputs, cosmo_batch)\n",
    "        return loss\n",
    "\n",
    "    # Get loss, grads, and update state\n",
    "    loss, grads = jax.value_and_grad(loss_fn)(state.params)\n",
    "    grads = jax.lax.pmean(grads, \"batch\")\n",
    "    new_state = state.apply_gradients(grads=grads)\n",
    "    metrics = {\"loss\": jax.lax.pmean(loss, \"batch\")}\n",
    "    \n",
    "    return new_state, metrics"
   ]
  },
  {
   "cell_type": "code",
   "execution_count": 319,
   "metadata": {},
   "outputs": [
    {
     "name": "stderr",
     "output_type": "stream",
     "text": [
      "100%|███████████████████████████| 10000/10000 [28:15<00:00,  5.90it/s, loss=0.0009572627]\n"
     ]
    }
   ],
   "source": [
    "n_steps = 10000\n",
    "n_batch = 32\n",
    "n_train = 1600 \n",
    "\n",
    "key = jax.random.PRNGKey(0)\n",
    "\n",
    "with trange(n_steps) as steps:\n",
    "    for step in steps:\n",
    "        key, subkey = jax.random.split(key)\n",
    "        idx = jax.random.choice(key, halo_pos.shape[0], shape=(n_batch,))\n",
    "        \n",
    "        halo_batch, cosmo_batch = halo_pos[:n_train][idx], omega_m[:n_train][idx]\n",
    "        # halo_batch, cosmo_batch = halo_pos[:n_batch], omega_m[:n_batch]  # Overfit on a small sample\n",
    "\n",
    "        # Split batches across devices\n",
    "        halo_batch = jax.tree_map(lambda x: np.split(x, num_local_devices, axis=0), halo_batch)\n",
    "        cosmo_batch = jax.tree_map(lambda x: np.split(x, num_local_devices, axis=0), cosmo_batch)\n",
    "        halo_batch, cosmo_batch = np.array(halo_batch), np.array(cosmo_batch)\n",
    "\n",
    "        pstate, metrics = train_step(pstate, halo_batch, cosmo_batch)\n",
    "        \n",
    "        steps.set_postfix(loss=unreplicate(metrics[\"loss\"]))"
   ]
  },
  {
   "cell_type": "code",
   "execution_count": 320,
   "metadata": {},
   "outputs": [
    {
     "name": "stderr",
     "output_type": "stream",
     "text": [
      "100%|████████████████████████████████████████████████████| 20/20 [00:43<00:00,  2.18s/it]\n"
     ]
    },
    {
     "data": {
      "text/plain": [
       "Text(0, 0.5, 'Predicted')"
      ]
     },
     "execution_count": 320,
     "metadata": {},
     "output_type": "execute_result"
    },
    {
     "data": {
      "image/png": "[encoded data removed]",
      "text/plain": [
       "<Figure size 640x480 with 1 Axes>"
      ]
     },
     "metadata": {},
     "output_type": "display_data"
    }
   ],
   "source": [
    "from tqdm import tqdm\n",
    "\n",
    "n_test_batch = 10\n",
    "n_test_batches = len(halo_pos_test) // n_test_batch\n",
    "\n",
    "for i in tqdm(range(n_test_batches)):\n",
    "\n",
    "    # TODO: jit/pmap\n",
    "    graph = build_graph(halo_pos_test[i * n_test_batch:(i + 1) * n_test_batch], k=k, use_pbc=use_pbc, use_edges=use_edges)\n",
    "    omega_m_pred = jax.jit(model.apply)(unreplicate(pstate).params, graph)\n",
    "\n",
    "    plt.scatter(omega_m_test[i * n_test_batch:(i + 1) * n_test_batch], omega_m_pred[:, 0], s=10, color='firebrick')\n",
    "    \n",
    "plt.plot(omega_m_test[:n_test_batch], omega_m_test[:n_test_batch], color='gray')\n",
    "\n",
    "plt.xlabel(\"True\")\n",
    "plt.ylabel(\"Predicted\")"
   ]
  },
  {
   "cell_type": "markdown",
   "metadata": {},
   "source": []
  },
  {
   "cell_type": "markdown",
   "metadata": {},
   "source": []
  }
 ],
 "metadata": {
  "kernelspec": {
   "display_name": "Python 3 (ipykernel)",
   "language": "python",
   "name": "python3"
  },
  "language_info": {
   "codemirror_mode": {
    "name": "ipython",
    "version": 3
   },
   "file_extension": ".py",
   "mimetype": "text/x-python",
   "name": "python",
   "nbconvert_exporter": "python",
   "pygments_lexer": "ipython3",
   "version": "3.10.13"
  }
 },
 "nbformat": 4,
 "nbformat_minor": 4
}
