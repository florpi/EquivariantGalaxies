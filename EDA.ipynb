{
 "cells": [
  {
   "cell_type": "code",
   "execution_count": 1,
   "metadata": {},
   "outputs": [],
   "source": [
    "from pathlib import Path\n",
    "import numpy as np\n",
    "import jax.numpy as jnp\n",
    "import pandas as pd\n",
    "import jax\n",
    "import jraph\n",
    "import matplotlib.pyplot as plt"
   ]
  },
  {
   "cell_type": "code",
   "execution_count": 2,
   "metadata": {},
   "outputs": [],
   "source": [
    "data_dir = Path('/n/holystore01/LABS/iaifi_lab/Lab/set-diffuser-data/val_split/')\n",
    "\n",
    "# you can find a train/test/val split of the data in the data directory"
   ]
  },
  {
   "cell_type": "code",
   "execution_count": 3,
   "metadata": {},
   "outputs": [],
   "source": [
    "halos = jnp.load(data_dir / 'train_halos.npy')"
   ]
  },
  {
   "cell_type": "code",
   "execution_count": 4,
   "metadata": {},
   "outputs": [
    {
     "data": {
      "text/plain": [
       "(1600, 5000, 7)"
      ]
     },
     "execution_count": 4,
     "metadata": {},
     "output_type": "execute_result"
    }
   ],
   "source": [
    "halos.shape\n",
    "# There are 1600 independent simulations in the training set, with 5000 objects each, and 7 properties"
   ]
  },
  {
   "cell_type": "code",
   "execution_count": 5,
   "metadata": {},
   "outputs": [
    {
     "name": "stdout",
     "output_type": "stream",
     "text": [
      "0.0 999.99994\n"
     ]
    }
   ],
   "source": [
    "# First three properties are positions\n",
    "print(halos[:,:,:3].min(), halos[:,:,:3].max())\n",
    "# You can see that the simulation is ran with periodic boundary conditions, and the boxsize is 1000."
   ]
  },
  {
   "cell_type": "code",
   "execution_count": 6,
   "metadata": {},
   "outputs": [
    {
     "name": "stdout",
     "output_type": "stream",
     "text": [
      "-3208.7217 999.9999\n"
     ]
    }
   ],
   "source": [
    "# Next 3 properties are velocities, and the last one is the mass of each object\n",
    "print(halos[:,:,3:6].min(), halos[:,:,:3:6].max())"
   ]
  },
  {
   "cell_type": "code",
   "execution_count": 7,
   "metadata": {},
   "outputs": [
    {
     "data": {
      "text/plain": [
       "(5000,)"
      ]
     },
     "execution_count": 7,
     "metadata": {},
     "output_type": "execute_result"
    }
   ],
   "source": [
    "halos[0,:,-1].shape"
   ]
  },
  {
   "cell_type": "code",
   "execution_count": 8,
   "metadata": {},
   "outputs": [
    {
     "data": {
      "image/png": "[encoded data removed]",
      "text/plain": [
       "<Figure size 640x480 with 1 Axes>"
      ]
     },
     "metadata": {},
     "output_type": "display_data"
    }
   ],
   "source": [
    "# this is the distribution of masses for one simulation\n",
    "# Masses are really large, so normally we log them\n",
    "_ = plt.hist(np.array(jnp.log10(halos[0,::10,-1])), bins=50, log=True,)"
   ]
  },
  {
   "cell_type": "markdown",
   "metadata": {},
   "source": [
    "## Let's look at the cosmological parameters for each simulation"
   ]
  },
  {
   "cell_type": "code",
   "execution_count": 9,
   "metadata": {},
   "outputs": [
    {
     "name": "stdout",
     "output_type": "stream",
     "text": [
      "1600\n"
     ]
    }
   ],
   "source": [
    "cosmology = pd.read_csv(data_dir / f'train_cosmology.csv')\n",
    "print(len(cosmology))"
   ]
  },
  {
   "cell_type": "code",
   "execution_count": 10,
   "metadata": {},
   "outputs": [
    {
     "data": {
      "text/html": [
       "<div>\n",
       "<style scoped>\n",
       "    .dataframe tbody tr th:only-of-type {\n",
       "        vertical-align: middle;\n",
       "    }\n",
       "\n",
       "    .dataframe tbody tr th {\n",
       "        vertical-align: top;\n",
       "    }\n",
       "\n",
       "    .dataframe thead th {\n",
       "        text-align: right;\n",
       "    }\n",
       "</style>\n",
       "<table border=\"1\" class=\"dataframe\">\n",
       "  <thead>\n",
       "    <tr style=\"text-align: right;\">\n",
       "      <th></th>\n",
       "      <th>Omega_m</th>\n",
       "      <th>Omega_b</th>\n",
       "      <th>h</th>\n",
       "      <th>n_s</th>\n",
       "      <th>sigma_8</th>\n",
       "    </tr>\n",
       "  </thead>\n",
       "  <tbody>\n",
       "    <tr>\n",
       "      <th>0</th>\n",
       "      <td>0.1755</td>\n",
       "      <td>0.06681</td>\n",
       "      <td>0.7737</td>\n",
       "      <td>0.8849</td>\n",
       "      <td>0.6641</td>\n",
       "    </tr>\n",
       "    <tr>\n",
       "      <th>1</th>\n",
       "      <td>0.2139</td>\n",
       "      <td>0.05557</td>\n",
       "      <td>0.8599</td>\n",
       "      <td>0.9785</td>\n",
       "      <td>0.8619</td>\n",
       "    </tr>\n",
       "    <tr>\n",
       "      <th>2</th>\n",
       "      <td>0.1867</td>\n",
       "      <td>0.04503</td>\n",
       "      <td>0.6189</td>\n",
       "      <td>0.8307</td>\n",
       "      <td>0.7187</td>\n",
       "    </tr>\n",
       "  </tbody>\n",
       "</table>\n",
       "</div>"
      ],
      "text/plain": [
       "   Omega_m  Omega_b       h     n_s  sigma_8\n",
       "0   0.1755  0.06681  0.7737  0.8849   0.6641\n",
       "1   0.2139  0.05557  0.8599  0.9785   0.8619\n",
       "2   0.1867  0.04503  0.6189  0.8307   0.7187"
      ]
     },
     "execution_count": 10,
     "metadata": {},
     "output_type": "execute_result"
    }
   ],
   "source": [
    "cosmology.head(3)"
   ]
  },
  {
   "cell_type": "code",
   "execution_count": 11,
   "metadata": {},
   "outputs": [],
   "source": [
    "omega_m = jnp.array(cosmology['Omega_m'].values)[:,None]"
   ]
  },
  {
   "cell_type": "code",
   "execution_count": 12,
   "metadata": {},
   "outputs": [
    {
     "data": {
      "text/plain": [
       "Array([[0.1755],\n",
       "       [0.2139],\n",
       "       [0.1867],\n",
       "       ...,\n",
       "       [0.3431],\n",
       "       [0.4539],\n",
       "       [0.4191]], dtype=float32)"
      ]
     },
     "execution_count": 12,
     "metadata": {},
     "output_type": "execute_result"
    }
   ],
   "source": [
    "omega_m"
   ]
  },
  {
   "cell_type": "markdown",
   "metadata": {},
   "source": [
    "The one the pointcloud will be more sensitive to, is Omega_m so we will start with that one"
   ]
  },
  {
   "cell_type": "markdown",
   "metadata": {},
   "source": [
    "## Let's build the simplest GNN to predict Omega_m from halo positions"
   ]
  },
  {
   "cell_type": "code",
   "execution_count": 13,
   "metadata": {},
   "outputs": [],
   "source": [
    "# First let's work on a baseline. Cosmologists have used what we call the two point correlation function to extract information on parameters like Omega_m"
   ]
  },
  {
   "cell_type": "code",
   "execution_count": 14,
   "metadata": {},
   "outputs": [],
   "source": [
    "from tqdm.notebook import tqdm"
   ]
  },
  {
   "cell_type": "code",
   "execution_count": 15,
   "metadata": {},
   "outputs": [],
   "source": [
    "from pycorr import TwoPointCorrelationFunction # Can install it here https://github.com/cosmodesi/pycorr\n",
    "\n",
    "r_bins = np.linspace(0.5, 150.0, 25)\n",
    "r_c = 0.5*(r_bins[1:] + r_bins[:-1])\n",
    "mu_bins = np.linspace(-1, 1, 201)\n",
    "box_size = 1000.\n",
    "\n",
    "tpcfs = []\n",
    "for halo in halos:\n",
    "    tpcfs.append(\n",
    "        TwoPointCorrelationFunction(\n",
    "                \"smu\",\n",
    "                edges=(np.array(r_bins), np.array(mu_bins)),\n",
    "                data_positions1=np.array(halo[:,:3]).T,\n",
    "                engine=\"corrfunc\",\n",
    "                n_threads=2,\n",
    "                boxsize=box_size,\n",
    "                los=\"z\",\n",
    "            )(ells=[0])[0]\n",
    "    )\n",
    "tpcfs = jnp.stack(tpcfs)"
   ]
  },
  {
   "cell_type": "code",
   "execution_count": 17,
   "metadata": {},
   "outputs": [
    {
     "data": {
      "text/plain": [
       "[<matplotlib.lines.Line2D at 0x152b30173a90>]"
      ]
     },
     "execution_count": 17,
     "metadata": {},
     "output_type": "execute_result"
    },
    {
     "data": {
      "image/png": "[encoded data removed]",
      "text/plain": [
       "<Figure size 640x480 with 1 Axes>"
      ]
     },
     "metadata": {},
     "output_type": "display_data"
    }
   ],
   "source": [
    "# This is how one of the tpcfs looks like\n",
    "plt.loglog(\n",
    "    r_c, tpcfs[2]\n",
    ")\n",
    "# It tells you how likely it is to find a pair of galaxies at a given pair separation r"
   ]
  },
  {
   "cell_type": "code",
   "execution_count": 33,
   "metadata": {},
   "outputs": [],
   "source": [
    "import flax.linen as nn\n",
    "import optax\n",
    "from tqdm import trange\n",
    "\n",
    "# let's build a simple flax model that can process these tpcfs\n",
    "from typing import Sequence, Callable\n",
    "\n",
    "\n",
    "class MLP(nn.Module):\n",
    "    \"\"\"A simple MLP.\"\"\"\n",
    "\n",
    "    feature_sizes: Sequence[int]\n",
    "    activation: Callable[[np.ndarray], np.ndarray] = nn.gelu\n",
    "\n",
    "    @nn.compact\n",
    "    def __call__(self, x):\n",
    "        for features in self.feature_sizes[:-1]:\n",
    "            x = nn.Dense(features)(x)\n",
    "            x = self.activation(x)\n",
    "\n",
    "        # No activation on final layer\n",
    "        x = nn.Dense(self.feature_sizes[-1])(x)\n",
    "        return x"
   ]
  },
  {
   "cell_type": "code",
   "execution_count": 34,
   "metadata": {},
   "outputs": [],
   "source": [
    "mlp = MLP(feature_sizes=[128,128,128, 1])\n",
    "# and let's intialize some parameters for it by using an example input\n",
    "key = jax.random.PRNGKey(0)\n",
    "params = mlp.init(key, tpcfs[:3])\n",
    "\n",
    "\n",
    "def loss_fn(params, x_batch, cosmo_batch,):\n",
    "    pred_cosmo = mlp.apply(params, x_batch)\n",
    "    return jnp.mean(pred_cosmo - cosmo_batch)**2"
   ]
  },
  {
   "cell_type": "code",
   "execution_count": 20,
   "metadata": {},
   "outputs": [
    {
     "name": "stderr",
     "output_type": "stream",
     "text": [
      "100%|██████████████████████████████████████████████████████████████████████████████████████████████████████████████████████████████████████████████████████████| 500/500 [00:33<00:00, 15.05it/s, loss=2.5469628e-05]\n"
     ]
    }
   ],
   "source": [
    "opt = optax.adamw(learning_rate=1e-2, weight_decay=1e-4)\n",
    "opt_state = opt.init(params)\n",
    "\n",
    "n_steps = 500 \n",
    "n_batch = 32\n",
    "\n",
    "with trange(n_steps) as steps:\n",
    "    for step in steps:\n",
    "        key, subkey = jax.random.split(key)\n",
    "        idx = jax.random.choice(key, tpcfs.shape[0], shape=(n_batch,))\n",
    "        \n",
    "        tpcf_batch, cosmo_batch = tpcfs[idx], omega_m[idx]\n",
    "        loss, grads = jax.value_and_grad(loss_fn)(params, tpcf_batch, cosmo_batch)\n",
    "        updates, opt_state = opt.update(grads, opt_state, params)\n",
    "\n",
    "        params = optax.apply_updates(params, updates)\n",
    "\n",
    "        steps.set_postfix(loss=loss)"
   ]
  },
  {
   "cell_type": "code",
   "execution_count": 21,
   "metadata": {},
   "outputs": [
    {
     "data": {
      "text/plain": [
       "[<matplotlib.lines.Line2D at 0x15269ca55e40>]"
      ]
     },
     "execution_count": 21,
     "metadata": {},
     "output_type": "execute_result"
    },
    {
     "data": {
      "image/png": "[encoded data removed]",
      "text/plain": [
       "<Figure size 640x480 with 1 Axes>"
      ]
     },
     "metadata": {},
     "output_type": "display_data"
    }
   ],
   "source": [
    "# let's see whether the model has learned to do the right thing to first order\n",
    "\n",
    "omega_m_pred = mlp.apply(params, tpcfs[:100])\n",
    "\n",
    "plt.scatter(omega_m[:100], omega_m_pred[:,0], s=1)\n",
    "plt.plot(omega_m[:100], omega_m[:100], color='gray')"
   ]
  },
  {
   "cell_type": "markdown",
   "metadata": {},
   "source": [
    "## Now let's see what a silly graph can do"
   ]
  },
  {
   "cell_type": "code",
   "execution_count": 127,
   "metadata": {},
   "outputs": [],
   "source": [
    "from functools import partial\n",
    "\n",
    "EPS = 1e-5\n",
    "\n",
    "def apply_pbc(dr: np.array, cell: np.array) -> np.array:\n",
    "    \"\"\"Apply periodic boundary conditions to a displacement vector, dr, given a cell.\n",
    "\n",
    "    Args:\n",
    "        dr (np.array): An array of shape (N,3) containing the displacement vector\n",
    "        cell_matrix (np.array): A 3x3 matrix describing the box dimensions and orientation.\n",
    "\n",
    "    Returns:\n",
    "        np.array: displacement vector with periodic boundary conditions applied\n",
    "    \"\"\"\n",
    "    return dr - jnp.round(dr.dot(jnp.linalg.inv(cell))).dot(cell)\n",
    "\n",
    "@partial(jax.jit, static_argnums=(1, 3))\n",
    "def nearest_neighbors(\n",
    "    x: np.array,\n",
    "    k: int,\n",
    "    cell: np.array = None,\n",
    "    pbc: bool = False,\n",
    "):\n",
    "    \"\"\"Returns the nearest neighbors of each node in x.\n",
    "\n",
    "    Args:\n",
    "        x (np.array): positions of nodes\n",
    "        k (int): number of nearest neighbors to find\n",
    "        mask (np.array, optional): node mask. Defaults to None.\n",
    "\n",
    "    Returns:\n",
    "        sources, targets: pairs of neighbors\n",
    "    \"\"\"\n",
    "    n_nodes = x.shape[0]\n",
    "    # Compute the vector difference between positions\n",
    "    dr = (x[:, None, :] - x[None, :, :]) + EPS\n",
    "    if pbc:\n",
    "        dr = apply_pbc(\n",
    "            dr=dr,\n",
    "            cell=cell,\n",
    "        )\n",
    "\n",
    "    # Calculate the distance matrix\n",
    "    distance_matrix = np.sum(dr**2, axis=-1)\n",
    "\n",
    "    # Get indices of nearest neighbors\n",
    "    indices = np.argsort(distance_matrix, axis=-1)[:, :k]\n",
    "\n",
    "    # Create sources and targets arrays\n",
    "    sources = np.repeat(np.arange(n_nodes), k)\n",
    "    targets = indices.ravel()\n",
    "\n",
    "    # return sources, targets, distance_matrix[sources, targets]\n",
    "    return sources, targets, dr[sources, targets]\n"
   ]
  },
  {
   "cell_type": "code",
   "execution_count": 128,
   "metadata": {},
   "outputs": [],
   "source": [
    "cell = jnp.array([[1.,0.,0.,],[0.,1.,0.], [0.,0.,1.]])\n",
    "\n",
    "def build_graph(halo_pos, k, use_pbc=True, use_edges=True,):\n",
    "    \n",
    "    n_batch = len(halo_pos)\n",
    "    sources, targets, distances = jax.vmap(partial(nearest_neighbors, pbc=use_pbc), in_axes=(0, None, None))(halo_pos, k, cell)\n",
    "\n",
    "    return jraph.GraphsTuple(\n",
    "            n_node=jnp.array([[halo_pos.shape[1]]]*n_batch),\n",
    "            n_edge=jnp.array(n_batch * [[k]]),\n",
    "            nodes=halo_pos, # node features\n",
    "            edges=jnp.sqrt(jnp.sum(distances **2, axis=-1, keepdims=True)) if use_edges else None, # edge features\n",
    "            globals=None, \n",
    "            senders=sources, \n",
    "            receivers=targets,\n",
    "        )"
   ]
  },
  {
   "cell_type": "code",
   "execution_count": 130,
   "metadata": {},
   "outputs": [],
   "source": [
    "# let's build a graph based on halo positions and k nearest neighbors\n",
    "halo_pos = halos[...,:3] / 1000. # let's divide by the boxsize so they are all between 0 and 1\n",
    "k = 10\n",
    "use_pbc = True"
   ]
  },
  {
   "cell_type": "code",
   "execution_count": 131,
   "metadata": {},
   "outputs": [],
   "source": [
    "# now we can build a graph for a batch\n",
    "\n",
    "graph = build_graph(halo_pos[:5], use_pbc=use_pbc, k=k)"
   ]
  },
  {
   "cell_type": "code",
   "execution_count": 132,
   "metadata": {},
   "outputs": [],
   "source": [
    "from jraph._src import utils\n",
    "import jax.tree_util as tree"
   ]
  },
  {
   "cell_type": "code",
   "execution_count": 134,
   "metadata": {},
   "outputs": [],
   "source": [
    "# let's build a dumb message passing GNN with jraph\n",
    "\n",
    "def get_node_mlp_updates(mlp_feature_sizes: int, name: str = None):\n",
    "    \"\"\"Get a node MLP update  function\n",
    "\n",
    "    Args:\n",
    "        mlp_feature_sizes (int): number of features in the MLP\n",
    "        name (str, optional): name of the update function. Defaults to None.\n",
    "\n",
    "    Returns:\n",
    "        Callable: update function\n",
    "    \"\"\"\n",
    "\n",
    "    def update_fn(\n",
    "        nodes: jnp.ndarray,\n",
    "        sent_attributes: jnp.ndarray,\n",
    "        received_attributes: jnp.ndarray,\n",
    "        globals: jnp.ndarray,\n",
    "    ) -> jnp.ndarray:\n",
    "        \"\"\"update node features\n",
    "\n",
    "        Args:\n",
    "            nodes (jnp.ndarray): node features\n",
    "            sent_attributes (jnp.ndarray): attributes sent to neighbors\n",
    "            received_attributes (jnp.ndarray): attributes received from neighbors\n",
    "            globals (jnp.ndarray): global features\n",
    "\n",
    "        Returns:\n",
    "            jnp.ndarray: updated node features\n",
    "        \"\"\"\n",
    "        if received_attributes is not None:\n",
    "            inputs = jnp.concatenate([nodes, received_attributes], axis=1)\n",
    "        else:  # If lone node\n",
    "            inputs = jnp.concatenate([nodes], axis=1)\n",
    "        return MLP(mlp_feature_sizes, name=name)(inputs)\n",
    "\n",
    "    return update_fn\n",
    "\n",
    "\n",
    "def get_edge_mlp_updates(mlp_feature_sizes: int, name: str = None):\n",
    "    \"\"\"Get an edge MLP update function\n",
    "\n",
    "    Args:\n",
    "        mlp_feature_sizes (int): number of features in the MLP\n",
    "        name (str, optional): name of the update function. Defaults to None.\n",
    "\n",
    "    Returns:\n",
    "        Callable: update function\n",
    "    \"\"\"\n",
    "\n",
    "    def update_fn(\n",
    "        edges: jnp.ndarray,\n",
    "        senders: jnp.ndarray,\n",
    "        receivers: jnp.ndarray,\n",
    "        globals: jnp.ndarray,\n",
    "    ) -> jnp.ndarray:\n",
    "        \"\"\"update edge features\n",
    "\n",
    "        Args:\n",
    "            edges (jnp.ndarray): edge attributes\n",
    "            senders (jnp.ndarray): senders node attributes\n",
    "            receivers (jnp.ndarray): receivers node attributes\n",
    "            globals (jnp.ndarray): global features\n",
    "\n",
    "        Returns:\n",
    "            jnp.ndarray: updated edge features\n",
    "        \"\"\"\n",
    "        # If there are no edges in the initial layer\n",
    "        if edges is not None:\n",
    "            inputs = jnp.concatenate([edges, senders, receivers], axis=1)\n",
    "        else:\n",
    "            inputs = jnp.concatenate([senders, receivers], axis=1)\n",
    "        return MLP(mlp_feature_sizes, name=name)(inputs)\n",
    "\n",
    "    return update_fn\n",
    "\n",
    "class Identity(nn.Module):\n",
    "    \"\"\"Module that applies the identity function, ignoring any additional args.\"\"\"\n",
    "\n",
    "    @nn.compact\n",
    "    def __call__(self, x, **args):\n",
    "        return x\n",
    "\n",
    "def make_global_mlp(features):\n",
    "  @jraph.concatenated_args\n",
    "  def update_fn(inputs):\n",
    "    return MLP(features)(inputs)\n",
    "  return update_fn\n",
    "\n",
    "class GNN(nn.Module):\n",
    "    \"\"\"A simple graph convolutional network\"\"\"\n",
    "\n",
    "    latent_size: int\n",
    "    hidden_size: int\n",
    "    num_mlp_layers: int\n",
    "    message_passing_steps: int\n",
    "    skip_connections: bool = False \n",
    "    norm: str = \"layer\"\n",
    "    attention: bool = False\n",
    "    in_features: int = 3\n",
    "    shared_weights: bool = False  # GNN shares weights across message passing steps\n",
    "\n",
    "    @nn.compact\n",
    "    def __call__(self, graph: jraph.GraphsTuple) -> jraph.GraphsTuple:\n",
    "        \"\"\"Do message passing on graph\n",
    "\n",
    "        Args:\n",
    "            graphs (jraph.GraphsTuple): graph object\n",
    "\n",
    "        Returns:\n",
    "            jraph.GraphsTuple: updated graph object\n",
    "        \"\"\"\n",
    "        \n",
    "        if graph.globals is not None:\n",
    "            graph= graph._replace(globals=graph.globals.reshape(1, -1))\n",
    "\n",
    "        mlp_feature_sizes = [self.hidden_size] * self.num_mlp_layers + [self.latent_size]\n",
    "        if graph.edges is None:\n",
    "            embedder = jraph.GraphMapFeatures(embed_node_fn=MLP(mlp_feature_sizes))\n",
    "        else:\n",
    "            embedder = jraph.GraphMapFeatures(embed_node_fn=MLP(mlp_feature_sizes), embed_edge_fn=MLP(mlp_feature_sizes))\n",
    "        graph = embedder(graph)\n",
    "\n",
    "        # Apply GCN once for each message-passing round.\n",
    "        for step in range(self.message_passing_steps):\n",
    "            # Initialize update functions with shared weights if specified;\n",
    "            # otherwise, initialize new weights for each step\n",
    "            if step == 0 or not self.shared_weights:\n",
    "                suffix = \"shared\" if self.shared_weights else step\n",
    "\n",
    "                update_node_fn = get_node_mlp_updates(mlp_feature_sizes, name=f\"update_node_fn_{suffix}\")\n",
    "                update_edge_fn = get_edge_mlp_updates(mlp_feature_sizes, name=f\"update_edge_fn_{suffix}\")\n",
    "\n",
    "                # Update nodes and edges; no need to update globals as they only condition\n",
    "                graph_net = jraph.GraphNetwork(\n",
    "                    update_node_fn=update_node_fn,\n",
    "                    update_edge_fn=update_edge_fn,\n",
    "                )\n",
    "\n",
    "            # Update graph, optionally with residual connection\n",
    "            if self.skip_connections:\n",
    "                new_graph = graph_net(graph)\n",
    "                graph = graph._replace(\n",
    "                    nodes=graph.nodes + new_graph.nodes,\n",
    "                    edges=new_graph.edges,\n",
    "                )\n",
    "            else:\n",
    "                graph = graph_net(graph)\n",
    "\n",
    "            # Optional normalization\n",
    "            if self.norm == \"layer\":\n",
    "                norm = nn.LayerNorm()\n",
    "            else:\n",
    "                norm = Identity()  # No normalization\n",
    "\n",
    "            graph = graph._replace(nodes=norm(graph.nodes), edges=norm(graph.edges))\n",
    "\n",
    "        # Aggregate nodes\n",
    "        agg_nodes = jnp.mean(graph.nodes, axis=0)\n",
    "\n",
    "        # Readout prediction\n",
    "        out = MLP(self.num_mlp_layers * [self.hidden_size] + [1,])(agg_nodes)\n",
    "        \n",
    "        return out"
   ]
  },
  {
   "cell_type": "code",
   "execution_count": 135,
   "metadata": {},
   "outputs": [],
   "source": [
    "class GraphWrapper(nn.Module):\n",
    "    @nn.compact\n",
    "    def __call__(self, x):\n",
    "        model = jax.vmap(GNN(latent_size=8, hidden_size=64, num_mlp_layers=3, message_passing_steps=3, skip_connections=False, norm=\"layer\"))\n",
    "        return model(x)"
   ]
  },
  {
   "cell_type": "code",
   "execution_count": 136,
   "metadata": {},
   "outputs": [],
   "source": [
    "gnn = GraphWrapper()\n",
    "# and let's intialize some parameters for it by using an example input\n",
    "key = jax.random.PRNGKey(0)\n",
    "graph = build_graph(halo_pos[:2], k, use_pbc=use_pbc, use_edges=True)\n",
    "\n",
    "out, params = gnn.init_with_output(key, graph)"
   ]
  },
  {
   "cell_type": "code",
   "execution_count": 137,
   "metadata": {},
   "outputs": [],
   "source": [
    "@jax.jit\n",
    "def loss_fn(params, x_batch, cosmo_batch,):\n",
    "    pred_cosmo = gnn.apply(params, x_batch)\n",
    "    return jnp.mean((pred_cosmo - cosmo_batch) ** 2)  # SM: Fixed this to reflect MSE loss"
   ]
  },
  {
   "cell_type": "code",
   "execution_count": 150,
   "metadata": {},
   "outputs": [
    {
     "name": "stderr",
     "output_type": "stream",
     "text": [
      "100%|███████████████████████████████████████████████████████████████████████████████████████████████████████████████████████████████████████████████████████████| 500/500 [02:01<00:00,  4.10it/s, loss=0.0029525477]\n"
     ]
    }
   ],
   "source": [
    "opt = optax.adamw(learning_rate=1e-4, weight_decay=1e-5)\n",
    "opt_state = opt.init(params)\n",
    "\n",
    "n_steps = 500\n",
    "n_batch = 10\n",
    "\n",
    "with trange(n_steps) as steps:\n",
    "    for step in steps:\n",
    "        key, subkey = jax.random.split(key)\n",
    "        idx = jax.random.choice(key, halo_pos.shape[0], shape=(n_batch,))\n",
    "        \n",
    "        halo_batch, cosmo_batch = halo_pos[idx], omega_m[idx]\n",
    "        # halo_batch, cosmo_batch = halo_pos[:10], omega_m[:10]  # Overfit on a small sample\n",
    "\n",
    "        # build graph\n",
    "        graph = build_graph(halo_batch, k, use_edges=True)\n",
    "        loss, grads = jax.value_and_grad(loss_fn)(params, graph, cosmo_batch)\n",
    "        updates, opt_state = opt.update(grads, opt_state, params)\n",
    "\n",
    "        params = optax.apply_updates(params, updates)\n",
    "\n",
    "        steps.set_postfix(loss=loss)"
   ]
  },
  {
   "cell_type": "code",
   "execution_count": 151,
   "metadata": {},
   "outputs": [
    {
     "name": "stdout",
     "output_type": "stream",
     "text": [
      "(10, 1)\n"
     ]
    },
    {
     "data": {
      "text/plain": [
       "[<matplotlib.lines.Line2D at 0x150b50913700>]"
      ]
     },
     "execution_count": 151,
     "metadata": {},
     "output_type": "execute_result"
    },
    {
     "data": {
      "image/png": "[encoded data removed]",
      "text/plain": [
       "<Figure size 640x480 with 1 Axes>"
      ]
     },
     "metadata": {},
     "output_type": "display_data"
    }
   ],
   "source": [
    "n_test = 10\n",
    "\n",
    "graph = build_graph(halo_pos[:n_test], k, use_pbc=use_pbc, use_edges=True)\n",
    "omega_m_pred = gnn.apply(params, graph)\n",
    "print(omega_m_pred.shape)\n",
    "\n",
    "plt.scatter(omega_m[:n_test], omega_m_pred[:,0], s=1)\n",
    "plt.plot(omega_m[:n_test], omega_m[:n_test], color='gray')"
   ]
  },
  {
   "cell_type": "markdown",
   "metadata": {},
   "source": []
  },
  {
   "cell_type": "markdown",
   "metadata": {},
   "source": []
  },
  {
   "cell_type": "markdown",
   "metadata": {},
   "source": []
  },
  {
   "cell_type": "markdown",
   "metadata": {},
   "source": []
  }
 ],
 "metadata": {
  "kernelspec": {
   "display_name": "Python 3",
   "language": "python",
   "name": "python3"
  },
  "language_info": {
   "codemirror_mode": {
    "name": "ipython",
    "version": 3
   },
   "file_extension": ".py",
   "mimetype": "text/x-python",
   "name": "python",
   "nbconvert_exporter": "python",
   "pygments_lexer": "ipython3",
   "version": "3.8.8"
  }
 },
 "nbformat": 4,
 "nbformat_minor": 4
}
